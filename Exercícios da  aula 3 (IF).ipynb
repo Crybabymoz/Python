{
 "cells": [
  {
   "cell_type": "markdown",
   "metadata": {},
   "source": [
    "### Programas com Desvios Condicionais (IF)"
   ]
  },
  {
   "cell_type": "markdown",
   "metadata": {},
   "source": [
    "#### 1."
   ]
  },
  {
   "cell_type": "code",
   "execution_count": 1,
   "metadata": {},
   "outputs": [
    {
     "name": "stdout",
     "output_type": "stream",
     "text": [
      "Informe a 1° nota: 3\n",
      "Informe a 2° nota: 3\n",
      "3.0\n"
     ]
    }
   ],
   "source": [
    "#leia duas notas de um aluno, entre 0 e 10, se for valida calcule a media, cc informe ao usuario\n",
    "#pega as notas\n",
    "nota1 = float(input(\"Informe a 1° nota: \"))\n",
    "nota2 = float(input(\"Informe a 2° nota: \"))\n",
    "#calcula a media\n",
    "media = (nota1+nota2)/2\n",
    "#condicao: se a nota 1 e 2 forem maior que 0 e menor ou igual a 10\n",
    "if (nota1 > 0)and(nota1 <= 10)and(nota2 > 0)and(nota2 <= 10): \n",
    "    print(media) #printa\n",
    "else: #se nao satisfazerem \n",
    "    print(\"As notas não são validas\") #printa"
   ]
  },
  {
   "cell_type": "markdown",
   "metadata": {},
   "source": [
    "#### 2."
   ]
  },
  {
   "cell_type": "code",
   "execution_count": null,
   "metadata": {},
   "outputs": [],
   "source": [
    "#ler notas como string, se for inteiro converte para int, se for ponto flutuante converte para float\n",
    "nota1 = str(input(\"Informe a 1° nota: \"))\n",
    "nota2 = str(input(\"Informe a 2° nota: \"))\n",
    "\n",
    "media = (nota1+nota2)/2\n",
    "\n",
    "if (nota1 > 0)and(nota1 <= 10)and(nota2 > 0)and(nota2 <= 10):\n",
    "    if \n",
    "    \n",
    "#INCOMPLETO"
   ]
  },
  {
   "cell_type": "markdown",
   "metadata": {},
   "source": [
    "#### 3."
   ]
  },
  {
   "cell_type": "code",
   "execution_count": 2,
   "metadata": {},
   "outputs": [
    {
     "name": "stdout",
     "output_type": "stream",
     "text": [
      "Entre com a nota 1: 3\n",
      "Entre com a nota 2: 3\n",
      "Entre com o peso da nota 1: 3\n",
      "Entre com o peso da nota 2: 3\n",
      "A média ponderada das notas do aluno é:  3.0\n",
      "Recuperação\n"
     ]
    }
   ],
   "source": [
    "#ler as 2 notas de um aluno e os pesos e calcule a media com base nos pesos e imprima\n",
    "#maior que 5 (aprovado), entre 3 e 5 (recuperacao), entre 0 e 3 (reprovado)\n",
    "nota1 = float(input(\"Entre com a nota 1: \"))\n",
    "nota2 = float(input(\"Entre com a nota 2: \"))\n",
    "peso1 = float(input(\"Entre com o peso da nota 1: \"))\n",
    "peso2 = float(input(\"Entre com o peso da nota 2: \"))\n",
    "\n",
    "media1 = nota1*peso1\n",
    "media2 = nota2*peso2\n",
    "media_pond = (media1+media2)/(peso1+peso2) #media ponderada é a soma das notas com seus respectivos pesos\n",
    "print(\"A média ponderada das notas do aluno é: \", media_pond)\n",
    "\n",
    "#condicao da ponderada: \n",
    "if media_pond >=5: \n",
    "      print(\"Aprovado\")\n",
    "elif (media_pond>=3 and media_pond <=4.9):\n",
    "      print(\"Recuperação\")\n",
    "elif (media_pond>=0.0 and media_pond <=2.9):\n",
    "      print(\"Reprovado\")\n",
    "else:\n",
    "    print(\"Aluno não identificado\")"
   ]
  },
  {
   "cell_type": "markdown",
   "metadata": {},
   "source": [
    "#### 4."
   ]
  },
  {
   "cell_type": "code",
   "execution_count": 3,
   "metadata": {},
   "outputs": [
    {
     "name": "stdout",
     "output_type": "stream",
     "text": [
      "Entre com a temperatura: 3\n",
      "Unidade da temperatura: 3\n",
      "Unidade não convertida\n"
     ]
    }
   ],
   "source": [
    "#ler o valor da tmperatura e unidade de medida, SE for em Celsius converter para Fahrenheit e vice versa\n",
    "temperatura = float(input(\"Entre com a temperatura: \"))\n",
    "unid_medida = str(input(\"Unidade da temperatura: \"))\n",
    "\n",
    "if (unid_medida == 'c'):\n",
    "    graus_fahr = (temperatura*9)/5+32\n",
    "    print(\"Temperatura em Graus Fahrenheit:\", graus_fahr)\n",
    "elif (unid_medida == 'f'):\n",
    "    graus_cels = (temperatura-32)/1.8\n",
    "    print(\"Temperatura em Graus Celsius:\", graus_cels)\n",
    "else:\n",
    "    print(\"Unidade não convertida\")"
   ]
  },
  {
   "cell_type": "markdown",
   "metadata": {},
   "source": [
    "#### 5."
   ]
  },
  {
   "cell_type": "code",
   "execution_count": 4,
   "metadata": {},
   "outputs": [
    {
     "name": "stdout",
     "output_type": "stream",
     "text": [
      "Entre com um número: 3\n",
      "Número inválido\n"
     ]
    }
   ],
   "source": [
    "#Ler um numero, SE for positivo calcular a raiz quadrada, SE for negativo imprimir uma mensagem (número inválido)\n",
    "import math\n",
    "numero = int(input(\"Entre com um número: \"))\n",
    "if ((numero%2)==0):\n",
    "    raiz = math.sqrt(numero)\n",
    "    print(\"A raiz quadrada é: \", raiz)\n",
    "else:\n",
    "    print(\"Número inválido\")"
   ]
  },
  {
   "cell_type": "markdown",
   "metadata": {},
   "source": [
    "#### 6."
   ]
  },
  {
   "cell_type": "code",
   "execution_count": 5,
   "metadata": {},
   "outputs": [
    {
     "name": "stdout",
     "output_type": "stream",
     "text": [
      "Entre com o coeficiente A: 3\n",
      "Entre com o coeficiente B: 3\n",
      "Entre com o coeficiente C: 3\n"
     ]
    }
   ],
   "source": [
    "#ler A, B, C e fazer a raiz de 2°grau, imprimir as raizes da equação\n",
    "A = float(input(\"Entre com o coeficiente A: \"))\n",
    "B = float(input(\"Entre com o coeficiente B: \"))\n",
    "C = float(input(\"Entre com o coeficiente C: \"))\n",
    "\n",
    "#INCOMPLETO"
   ]
  },
  {
   "cell_type": "markdown",
   "metadata": {},
   "source": [
    "#### 7."
   ]
  },
  {
   "cell_type": "code",
   "execution_count": 14,
   "metadata": {},
   "outputs": [
    {
     "name": "stdout",
     "output_type": "stream",
     "text": [
      "Entre com 3 numeros:\n",
      "\n",
      "9\n",
      "6\n",
      "3\n",
      "O maior número é o 9\n"
     ]
    }
   ],
   "source": [
    "#ler 3 numeros e dizer qual é o maior deles\n",
    "print(\"Entre com 3 numeros:\\n\")\n",
    "num1 = int(input( ))\n",
    "num2 = int(input( ))\n",
    "num3 = int(input( ))\n",
    "\n",
    "if (num1>num2 and num1>num3):\n",
    "    print(\"O maior número é o\", num1)\n",
    "elif (num2>num1 and num2>num3):\n",
    "    print(\"O maior número é o\", num2)\n",
    "elif (num3>num1 and num3>num2):\n",
    "    print(\"O maior número é o\", num3)\n",
    "else:\n",
    "    print(\"Invalido\")"
   ]
  },
  {
   "cell_type": "markdown",
   "metadata": {},
   "source": [
    "#### 8."
   ]
  },
  {
   "cell_type": "code",
   "execution_count": 25,
   "metadata": {},
   "outputs": [
    {
     "name": "stdout",
     "output_type": "stream",
     "text": [
      "Entre com o primeiro número: 8\n",
      "Entre com o segundo número: 6\n",
      "Entre com o terceiro número: 5\n",
      "Os numeros ordenados são: 5 6 8\n"
     ]
    }
   ],
   "source": [
    "#ler 3 numeros inteiros e ordenalos de forma crescente\n",
    "num1 = int(input(\"Entre com o primeiro número: \"))\n",
    "num2 = int(input(\"Entre com o segundo número: \"))\n",
    "num3 = int(input(\"Entre com o terceiro número: \"))\n",
    "\n",
    "numeros = (num1,num2,num3)\n",
    "num_ord = sorted(numeros)\n",
    "print(\"Os numeros ordenados são:\",num_ord[0], num_ord[1], num_ord[2])"
   ]
  },
  {
   "cell_type": "markdown",
   "metadata": {},
   "source": [
    "#### 9."
   ]
  },
  {
   "cell_type": "code",
   "execution_count": 28,
   "metadata": {},
   "outputs": [
    {
     "name": "stdout",
     "output_type": "stream",
     "text": [
      "Entre com o primeiro número: 5\n",
      "Entre com o segundo número: -7\n",
      "Entre com o terceiro número: 1\n",
      "Ordem crescente: -7 1 5\n",
      "Ordem decrescente: 5 1 -7\n"
     ]
    }
   ],
   "source": [
    "#ler 3 numeros e mostrar na tela a ordem crescente decrescente\n",
    "num1 = int(input(\"Entre com o primeiro número: \"))\n",
    "num2 = int(input(\"Entre com o segundo número: \"))\n",
    "num3 = int(input(\"Entre com o terceiro número: \"))\n",
    "\n",
    "numeros = (num1,num2,num3)\n",
    "num_cres = sorted(numeros)\n",
    "print(\"Ordem crescente:\",num_cres[0], num_cres[1], num_cres[2])\n",
    "num_cres.reverse()\n",
    "print(\"Ordem decrescente:\",num_cres[0], num_cres[1], num_cres[2])"
   ]
  },
  {
   "cell_type": "markdown",
   "metadata": {},
   "source": [
    "#### 10."
   ]
  },
  {
   "cell_type": "code",
   "execution_count": 30,
   "metadata": {},
   "outputs": [
    {
     "name": "stdout",
     "output_type": "stream",
     "text": [
      "Entre com o dia:13\n",
      "Entre com o mês:08\n",
      "Entre com o ano:1666\n",
      "Data Valida!\n"
     ]
    }
   ],
   "source": [
    "#ler a data de nascimento (dia,mês,ano), ver se é valida e imprimir data valida ou invalida\n",
    "dia = int(input(\"Entre com o dia:\"))\n",
    "mes = int(input(\"Entre com o mês:\"))\n",
    "ano = int(input(\"Entre com o ano:\"))\n",
    "#condicao da data: o dia deve estar entre 0 e 31\n",
    "if (dia>0 and dia<=28) or (dia>0 and dia<=29) or (dia>0 and dia<=30) or (dia>0 and dia<=31):\n",
    "    if (mes>0 and mes<13): #o mes deve estar entre 0 e 12\n",
    "        if(ano<=2022): #o ano deve ser menor que o ano atual \n",
    "            print(\"Data Valida!\") #eh valido\n",
    "else:\n",
    "    print(\"Data Invalida :(\") #nao eh valido"
   ]
  },
  {
   "cell_type": "markdown",
   "metadata": {},
   "source": [
    "#### 11."
   ]
  },
  {
   "cell_type": "code",
   "execution_count": 11,
   "metadata": {},
   "outputs": [
    {
     "name": "stdout",
     "output_type": "stream",
     "text": [
      "Qual seu salario atual? 3000\n",
      "Qual seu tempo de serviço? 11\n",
      "Salarial final (sem reajuste) com bonus é de: 3500.0\n"
     ]
    }
   ],
   "source": [
    "#ler o valor do salario de um funcionario o tempo de trabalho (anos), calcule o reajuste do salario \n",
    "# e caso o funcionario tenha direito, o salario reajustado ou uma mensagem dizendo que nao tem direito a aumento\n",
    "sal_atual = float(input(\"Qual seu salario atual? \"))\n",
    "tempo_serv = float(input(\"Qual seu tempo de serviço? \"))\n",
    "\n",
    "if (sal_atual<=500 and tempo_serv<1):\n",
    "    reajuste = 0.25\n",
    "    bonus = 0\n",
    "    sal_reajust = (sal_atual+reajuste)+bonus\n",
    "    print(\"Salarial final reajustado (sem bonus) é de:\", sal_reajust)\n",
    "elif (sal_atual<=1000 and tempo_serv<=3):\n",
    "    reajuste = 0.20\n",
    "    bonus = 100\n",
    "    sal_reajust = (sal_atual+reajuste)+bonus\n",
    "    print(\"Salarial final reajustado é de:\", sal_reajust)\n",
    "elif (sal_atual<=1500 and tempo_serv<=6):\n",
    "    reajuste = 0.15\n",
    "    bonus = 200\n",
    "    sal_reajust = (sal_atual+reajuste)+bonus\n",
    "    print(\"Salarial final reajustado é de:\", sal_reajust)\n",
    "elif (sal_atual<=2000 and tempo_serv<=10):\n",
    "    reajuste = 0.10\n",
    "    bonus = 300\n",
    "    sal_reajust = (sal_atual+reajuste)+bonus\n",
    "    print(\"Salarial final reajustado é de:\", sal_reajust)\n",
    "elif (sal_atual>2000 and tempo_serv>10):\n",
    "    reajuste = 0\n",
    "    bonus = 500\n",
    "    sal_reajust = (sal_atual+reajuste)+bonus\n",
    "    print(\"Salarial final (sem reajuste) com bonus é de:\", sal_reajust)"
   ]
  },
  {
   "cell_type": "markdown",
   "metadata": {},
   "source": [
    "#### 12."
   ]
  },
  {
   "cell_type": "code",
   "execution_count": null,
   "metadata": {},
   "outputs": [],
   "source": [
    "#ler nome, sexo, idade e nacionalidade de uma pessoa, verificando a validade\n",
    "#se alguma informação for invalida, indicar e se for valido imprimir as informações\n",
    "nome = str(input(\" \"))\n",
    "sexo = str(input(\" \"))\n",
    "idade = int(input( ))\n",
    "nacio = str(input(\" \"))\n",
    "\n",
    "if (nome == str):\n",
    "    (sexo == 'F' or sexo == 'M'):\n",
    "        (idade>=0 and idade<124):\n",
    "            (nacio == 'brasileiro' or nacio == 'estrangeiro'):\n",
    "                print()\n",
    "                \n",
    "#INCOMPLETO"
   ]
  },
  {
   "cell_type": "markdown",
   "metadata": {},
   "source": [
    "#### 13."
   ]
  },
  {
   "cell_type": "code",
   "execution_count": 16,
   "metadata": {},
   "outputs": [
    {
     "name": "stdout",
     "output_type": "stream",
     "text": [
      "26\n",
      "Número par: 26.0\n"
     ]
    }
   ],
   "source": [
    "#ler um numero e dizer se é par ou ímpar\n",
    "num = float(input( ))\n",
    "if (num%2)==0:\n",
    "    print(\"Número par:\", num)\n",
    "elif (num%2)!=0:\n",
    "    print(\"Número ímpar:\", num)"
   ]
  },
  {
   "cell_type": "markdown",
   "metadata": {},
   "source": [
    "#### 14."
   ]
  },
  {
   "cell_type": "code",
   "execution_count": 29,
   "metadata": {},
   "outputs": [
    {
     "name": "stdout",
     "output_type": "stream",
     "text": [
      "É um número ímpar: 25\n"
     ]
    }
   ],
   "source": [
    "#sortear um numero aleatorio inteiro e checar se é par ou ímpar\n",
    "import random\n",
    "num = random.randrange(0,100)\n",
    "if (num%2)==0:\n",
    "    print(\"É um número par:\", num)\n",
    "elif (num%2)!=0:\n",
    "    print(\"É um número ímpar:\", num)"
   ]
  },
  {
   "cell_type": "markdown",
   "metadata": {},
   "source": [
    "#### 15."
   ]
  },
  {
   "cell_type": "code",
   "execution_count": 6,
   "metadata": {},
   "outputs": [
    {
     "name": "stdout",
     "output_type": "stream",
     "text": [
      "4\n",
      "6\n",
      "3\n",
      "Parabens, 1 tentativa usada:  4\n"
     ]
    }
   ],
   "source": [
    "#sortear um número entre 0 e 10. o usuario deve tentar adivinhar que numero é tendo 3 tentativas e podera verificar se\n",
    "#o numero que chutou é maior ou menor que o sorteado. \n",
    "import random\n",
    "num = random.randrange(1,10)\n",
    "chut1=int(input())\n",
    "chut2=int(input())\n",
    "chut3=int(input())\n",
    "\n",
    "if (chut1==num):\n",
    "     print(\"Parabens, 1 tentativa usada: \", num)\n",
    "elif (chut2==num):\n",
    "       print(\"Parabens, 2 tentativas usadas: \", num)\n",
    "elif (chut3==num):\n",
    "       print(\"Parabens, 3 tentativas usadas: \", num)"
   ]
  },
  {
   "cell_type": "code",
   "execution_count": null,
   "metadata": {},
   "outputs": [],
   "source": []
  }
 ],
 "metadata": {
  "kernelspec": {
   "display_name": "Python 3",
   "language": "python",
   "name": "python3"
  },
  "language_info": {
   "codemirror_mode": {
    "name": "ipython",
    "version": 3
   },
   "file_extension": ".py",
   "mimetype": "text/x-python",
   "name": "python",
   "nbconvert_exporter": "python",
   "pygments_lexer": "ipython3",
   "version": "3.8.3"
  }
 },
 "nbformat": 4,
 "nbformat_minor": 4
}
