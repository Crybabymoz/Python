{
 "cells": [
  {
   "cell_type": "markdown",
   "metadata": {},
   "source": [
    "# <font color='blue'>SME0241 - Introdução à Modelagem Matemática</font>\n",
    "\n",
    "## Segunda Lista Entregável 13/12/2020\n",
    "\n",
    "## Prof. Luis Gustavo Nonato  \n",
    "\n",
    "ICMC-USP\n",
    "\n",
    "----"
   ]
  },
  {
   "cell_type": "code",
   "execution_count": null,
   "metadata": {},
   "outputs": [],
   "source": [
    "import numpy as np\n",
    "import pandas as pd\n",
    "import matplotlib.pyplot as plt"
   ]
  },
  {
   "cell_type": "markdown",
   "metadata": {},
   "source": [
    "### Questão 1: (5 pontos)\n",
    "A função abaixo carrega o arquivo ``qualidade_ar_dia.csv``(enviado por email juntamente com o notebook) e retorna a série com medidas diárias do número de particulas no ar em um ponto da cidade de São Paulo no período de 1 ano."
   ]
  },
  {
   "cell_type": "code",
   "execution_count": null,
   "metadata": {},
   "outputs": [],
   "source": [
    "def read_particulas():\n",
    "    qar = pd.read_csv('qualidade_ar_dia.csv')\n",
    "    q = qar['Particulas Inalaveis'].values\n",
    "    return(q)"
   ]
  },
  {
   "cell_type": "markdown",
   "metadata": {},
   "source": [
    "#### 1.1) (0.5 ponto) \n",
    "Faça o gráfico do número do número de partículas utilizando a discretização no eixo $x$ como sendo números inteiros de 1 a 365."
   ]
  },
  {
   "cell_type": "code",
   "execution_count": null,
   "metadata": {},
   "outputs": [],
   "source": [
    "# Solução\n",
    "t = np.arange(365)\n",
    "y = read_particulas()\n",
    "plt.plot(t, y)"
   ]
  },
  {
   "cell_type": "markdown",
   "metadata": {},
   "source": [
    "#### 1.2) (2 pontos)\n",
    "Considere a função \n",
    "\n",
    "$$\n",
    "f(t)=a_0+a_1\\cos(a_3t)+a_2\\sin(a_4t)\n",
    "$$\n",
    "\n",
    "como modelo para a distribuição de partículas. Encontre os valores de $a_0,a_1,a_2,a_3$ e $a_4$ de modo que o modelo se ajuste aos dados. Para isso utilize o método dos gradientes descendentes com as seguintes especificações:\n",
    "\n",
    "$$t\\in[0,2\\pi]\\\\\n",
    "\\begin{array}{rl}\n",
    "n & = & 50000 \\quad \\mbox{(número de passos no método)}\\\\\n",
    "h & = & 10^{-7} \\quad \\mbox{(tamanho do passo )}\\\\\n",
    "[a^0_0,a^0_1,a^0_2,a^0_3,a^0_4] & = &[1,1,1,1,1] \\quad \\mbox{(condição inicial)}\n",
    "\\end{array}\n",
    "$$\n",
    "\n",
    "Qual o valor encontrado para $a_0,a_1,a_2,a_3$ e $a_4$?\n",
    "\n",
    "a) $a_0=24.00,\\, a_1=8.48,\\, a_2=2.26,\\, a_3=3.60,\\, a_4=2.57$<br>\n",
    "b) $a_0=30.01,\\, a_1=6.78,\\, a_2=5.76,\\, a_3=-3.50,\\, a_4=1.70$<br>\n",
    "c) $a_0=19.54,\\, a_1=3.78,\\, a_2=15.77,\\, a_3=1.73,\\, a_4=0.47$ (X)<br>\n",
    "d) $a_0=12.30,\\, a_1=2.81,\\, a_2=6.22,\\, a_3=6.61,\\, a_4=5.57$"
   ]
  },
  {
   "cell_type": "code",
   "execution_count": 2,
   "metadata": {},
   "outputs": [],
   "source": [
    "#solucao\n",
    "def f(a, t):\n",
    "    return a[0] + a[1]*np.cos(a[3]*t) + a[2]*np.sin(a[4]*t)\n",
    "\n",
    "def grad(y, a, t):\n",
    "    pd_0 = 2*(f(a, t) - y)\n",
    "    pd_1 = 2*(f(a, t) - y)*(np.cos(a[3]*t))\n",
    "    pd_2 = 2*(f(a, t) - y)*(np.sin(a[4]*t))\n",
    "    pd_3 = 2*(f(a, t) - y)*(-t*a[1]*np.sin(a[3]*t))\n",
    "    pd_4 = 2*(f(a, t) - y)*(t*a[2]*np.cos(a[4]*t))\n",
    "    \n",
    "    pd0 = np.sum(d0)\n",
    "    pd1 = np.sum(d1)\n",
    "    pd2 = np.sum(d2)\n",
    "    pd3 = np.sum(d3)\n",
    "    pd4 = np.sum(d4)\n",
    "    \n",
    "    array = np.array([d0, d1, d2, d3, d4])\n",
    "    return array"
   ]
  },
  {
   "cell_type": "code",
   "execution_count": 6,
   "metadata": {},
   "outputs": [
    {
     "ename": "NameError",
     "evalue": "name 'np' is not defined",
     "output_type": "error",
     "traceback": [
      "\u001b[1;31m---------------------------------------------------------------------------\u001b[0m",
      "\u001b[1;31mNameError\u001b[0m                                 Traceback (most recent call last)",
      "\u001b[1;32m<ipython-input-6-15a228c43b93>\u001b[0m in \u001b[0;36m<module>\u001b[1;34m\u001b[0m\n\u001b[0;32m      1\u001b[0m \u001b[0mn\u001b[0m \u001b[1;33m=\u001b[0m \u001b[1;36m50000\u001b[0m\u001b[1;33m\u001b[0m\u001b[1;33m\u001b[0m\u001b[0m\n\u001b[0;32m      2\u001b[0m \u001b[0mh\u001b[0m \u001b[1;33m=\u001b[0m \u001b[1;36m1e-7\u001b[0m\u001b[1;33m\u001b[0m\u001b[1;33m\u001b[0m\u001b[0m\n\u001b[1;32m----> 3\u001b[1;33m \u001b[0mt\u001b[0m \u001b[1;33m=\u001b[0m \u001b[0mnp\u001b[0m\u001b[1;33m.\u001b[0m\u001b[0mlinspace\u001b[0m\u001b[1;33m(\u001b[0m\u001b[1;36m0\u001b[0m\u001b[1;33m,\u001b[0m\u001b[1;36m2\u001b[0m\u001b[1;33m*\u001b[0m\u001b[0mnp\u001b[0m\u001b[1;33m.\u001b[0m\u001b[0mpi\u001b[0m\u001b[1;33m,\u001b[0m \u001b[1;36m365\u001b[0m\u001b[1;33m)\u001b[0m\u001b[1;33m\u001b[0m\u001b[1;33m\u001b[0m\u001b[0m\n\u001b[0m\u001b[0;32m      4\u001b[0m \u001b[0malfa\u001b[0m \u001b[1;33m=\u001b[0m \u001b[0mnp\u001b[0m\u001b[1;33m.\u001b[0m\u001b[0marray\u001b[0m\u001b[1;33m(\u001b[0m\u001b[1;33m[\u001b[0m\u001b[1;36m1\u001b[0m\u001b[1;33m,\u001b[0m \u001b[1;36m1\u001b[0m\u001b[1;33m,\u001b[0m \u001b[1;36m1\u001b[0m\u001b[1;33m,\u001b[0m \u001b[1;36m1\u001b[0m\u001b[1;33m,\u001b[0m \u001b[1;36m1\u001b[0m\u001b[1;33m]\u001b[0m\u001b[1;33m)\u001b[0m\u001b[1;33m\u001b[0m\u001b[1;33m\u001b[0m\u001b[0m\n\u001b[0;32m      5\u001b[0m \u001b[1;32mfor\u001b[0m \u001b[0mi\u001b[0m \u001b[1;32min\u001b[0m \u001b[0mrange\u001b[0m\u001b[1;33m(\u001b[0m\u001b[1;36m1\u001b[0m\u001b[1;33m,\u001b[0m \u001b[0mn\u001b[0m\u001b[1;33m)\u001b[0m\u001b[1;33m:\u001b[0m\u001b[1;33m\u001b[0m\u001b[1;33m\u001b[0m\u001b[0m\n",
      "\u001b[1;31mNameError\u001b[0m: name 'np' is not defined"
     ]
    }
   ],
   "source": [
    "n = 50000\n",
    "h = 1e-7\n",
    "t = np.linspace(0,2*np.pi, 365)\n",
    "alfa = np.array([1, 1, 1, 1, 1])\n",
    "for i in range(1, n):\n",
    "    alfa = alfa - grad(y, alfa, t)*h"
   ]
  },
  {
   "cell_type": "code",
   "execution_count": null,
   "metadata": {},
   "outputs": [],
   "source": [
    "alfa"
   ]
  },
  {
   "cell_type": "markdown",
   "metadata": {},
   "source": [
    "#### 1.3) (0.5 pontos)\n",
    "Faça o gráfico do número de particulas juntamente com o gráfico do modelo encontrado na questão 1.2) acima."
   ]
  },
  {
   "cell_type": "code",
   "execution_count": null,
   "metadata": {},
   "outputs": [],
   "source": [
    "# Solucao\n",
    "plt.plot(t, f(alfa, t))\n",
    "plt.plot(t, y)"
   ]
  },
  {
   "cell_type": "markdown",
   "metadata": {},
   "source": [
    "#### 1.4) (2 pontos)\n",
    "Utilizando o modelo calculado na questão 1.2), faça uma previsão de qual seria o número de partículas nos 60 dias que sucedem o final da amostragem. Faça o gráfico da previsão dos 60 dias que sucedem o final da amostragem. Qual o número aproximado de particulas previsto para o último dia da predição? \n",
    "\n",
    "a) 31<br>\n",
    "b) 22 <br>\n",
    "c) 19 (X) <br>\n",
    "d) 53"
   ]
  },
  {
   "cell_type": "code",
   "execution_count": null,
   "metadata": {},
   "outputs": [],
   "source": [
    "# Solucao\n",
    "t_part = np.linspace(0, 848*np.pi/364, 364+60)\n",
    "\n",
    "plt.plot(t_part[0:365], y)\n",
    "plt.plot(t_part[0:365], f(alfa, t_part[0:365]))\n",
    "plt.plot(t_part[365:364 + 60], f(alfa, t_part[365:364 + 60]))\n",
    "\n",
    "print(f(alfa, t_part)[-1])"
   ]
  },
  {
   "cell_type": "markdown",
   "metadata": {},
   "source": [
    "### Questão 2) (5 pontos)\n",
    "Considere a função $f(x,y)=x^2+16y^2+x$. "
   ]
  },
  {
   "cell_type": "markdown",
   "metadata": {},
   "source": [
    "#### 2.1) (1 ponto)\n",
    "Escreva um código para desenhar as curvas de nível 2, 4, 6 e 8 da função $f(x,y)$ acima."
   ]
  },
  {
   "cell_type": "code",
   "execution_count": null,
   "metadata": {},
   "outputs": [],
   "source": [
    "# Solucao\n",
    "n = 100\n",
    "Z x**2 + 16*(y**2) + x\n",
    "X, Y = np.meshgrid(np.linspace(-3, 2, n), np.linspace(-2, 2, n))\n",
    "\n",
    "fig, ax = plt.subplots()\n",
    "CS = ax.contour(X,Y,Z, levels = [2, 4, 6, 8])\n",
    "ax.clabel(CS, inline=1, fontsize=20)"
   ]
  },
  {
   "cell_type": "markdown",
   "metadata": {},
   "source": [
    "#### 2.2) (2.5 pontos)\n",
    "Encontre o ponto onde a curva $xy=1$ é tangente a uma das curvas de nível de $f(x,y)$? Utilize como chute inicial o ponto $x_0=[2,1,1]$. O ponto encontrado é:\n",
    "\n",
    "a) [1.88,0.53] (X) <br>\n",
    "b) [2.11,0.67] <br>\n",
    "c) [-2.53,0.5]<br>\n",
    "d) [-2,-1]"
   ]
  },
  {
   "cell_type": "code",
   "execution_count": null,
   "metadata": {},
   "outputs": [],
   "source": [
    "# Solucao\n",
    "def m_jac(L):  \n",
    "    return(np.array([[2, -1*l[2], -1*l[1]],\n",
    "                    [-1*l[2], 32, -1*l[0]],\n",
    "                    [l[1], l[0], 0]]))\n",
    "\n",
    "def n_method(xyL_0):\n",
    "    n = 100\n",
    "    l = np.zeros((3,n))\n",
    "    l[:,0] = xyL_0\n",
    "    H = np.zeros(3)\n",
    "    for k in range(1,n):\n",
    "        h1 = 2*l[0,k-1] + 1 - l[2, k-1]*l[1, k-1]\n",
    "        h2 = 32*l[1,k-1] - l[2, k-1]*l[0, k-1]\n",
    "        h3 = L[1,k-1]* l[0,k-1] - 1\n",
    "        H[:] = [h1, h2, h3]\n",
    "        J = m_jac(l[:,k-1])\n",
    "        dxyl = np.linalg.solve(J,-H)\n",
    "        l[:,k] = l[:,k-1]+dxyL\n",
    "    \n",
    "    return(l)\n",
    "\n",
    "L = n_method([2,1,1]) \n",
    "if (np.all(np.abs(L[:,-1]-L[:,-2])<1e-7)):\n",
    "    print('solução:',L[0:2,-1])\n",
    "    "
   ]
  },
  {
   "cell_type": "markdown",
   "metadata": {},
   "source": [
    "#### 2.3) (1.5 ponto)\n",
    "Qual é a curva de nível de $f(x,y)$ que é tangente à curva $xy=1$. Faça o gráfico das curvas e do ponto de tangência.\n",
    "\n",
    "a) 7.38 <br>\n",
    "b) 8.10 <br>\n",
    "c) 9.94 (X) <br>\n",
    "d) 10.51"
   ]
  },
  {
   "cell_type": "code",
   "execution_count": null,
   "metadata": {},
   "outputs": [],
   "source": [
    "# Solucao\n",
    "X, Y = np.meshgrid(np.linspace(-4, 4, 800), np.linspace(-1, 1, 800))\n",
    "Z = x**2 + 16*y**2+x\n",
    "\n",
    "fig, ax = plt.subplots()\n",
    "curva_de_nivel = ax.contour(X, Y, Z, levels = [9.94])\n",
    "\n",
    "ax.contour(X, Y, X*Y-1,levels = [0], colors='yellow')\n",
    "plt.scatter(1.88579, 0.53028, color='blue')\n",
    "ax.clabel(curva_de_nivel, inline=1, fontsize=20)\n",
    "plt.show()"
   ]
  }
 ],
 "metadata": {
  "kernelspec": {
   "display_name": "Python 3",
   "language": "python",
   "name": "python3"
  },
  "language_info": {
   "codemirror_mode": {
    "name": "ipython",
    "version": 3
   },
   "file_extension": ".py",
   "mimetype": "text/x-python",
   "name": "python",
   "nbconvert_exporter": "python",
   "pygments_lexer": "ipython3",
   "version": "3.8.3"
  }
 },
 "nbformat": 4,
 "nbformat_minor": 2
}
