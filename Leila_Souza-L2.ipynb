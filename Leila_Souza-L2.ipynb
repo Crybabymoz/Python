{
 "cells": [
  {
   "cell_type": "markdown",
   "metadata": {
    "id": "bBPeruYJR5rl"
   },
   "source": [
    "# <font color='blue'>SME0241 - Introdução à Modelagem Matemática</font>\n",
    "\n",
    "## Lista 1 (Data de Entrega: 11/10/2022)\n",
    "\n",
    "## Prof. Luis Gustavo Nonato\n",
    "## Monitor: Bruno da Freiria Mischiati Borges  \n",
    "\n",
    "ICMC-USP\n",
    "\n",
    "----"
   ]
  },
  {
   "cell_type": "code",
   "execution_count": 5,
   "metadata": {
    "id": "Bto7cUFYL7QP"
   },
   "outputs": [],
   "source": [
    "import numpy as np\n",
    "import matplotlib.pyplot as plt"
   ]
  },
  {
   "cell_type": "markdown",
   "metadata": {
    "id": "8wajX4FkMFaK"
   },
   "source": [
    "### Questão 1:  (2,5 pontos)\n",
    "Considerando a equação do calor abaixo:\n",
    "\n",
    "$$\n",
    "u_t(x,t)=\\kappa u_{xx}(x,t)\n",
    "$$\n",
    "\n",
    "onde $\\kappa=2$. Suponha que o intervalo temporal esteja discretizado de modo que $\\Delta t = 0.14$. Qual dos valores abaixo para $\\Delta x$ torna o método de diferenças finitas estável?\n",
    "Implemente um código para encontrar o valor pedido\n",
    "\n",
    "a) 0.6</font><br> \n",
    "b) 0.75 (X)<br>\n",
    "c) 0.70<br>\n",
    "d) 0.5<br>"
   ]
  },
  {
   "cell_type": "code",
   "execution_count": 42,
   "metadata": {},
   "outputs": [
    {
     "name": "stdout",
     "output_type": "stream",
     "text": [
      "0.7483314773547883\n"
     ]
    }
   ],
   "source": [
    "#Solucao \n",
    "import numpy as np\n",
    "k = 2\n",
    "dt = 0.14\n",
    "dx = (2*0.14/0.5)\n",
    "Dx = np.sqrt(dx)\n",
    "print(Dx)"
   ]
  },
  {
   "cell_type": "markdown",
   "metadata": {
    "id": "ugbCbiYyQJ-g"
   },
   "source": [
    "### Questão 2:  (2,5 pontos)\n",
    "Considere a função \n",
    "\n",
    "$$\n",
    "f(x)=tan(x)\n",
    "$$\n",
    "\n",
    "no intervalo $x\\in[0.2,0.6]$.\n",
    "\n",
    "Aproxime a função no ponto x = 0.4 utilizando o polinômio de Taylor de segundo grau abaixo\n",
    "\n",
    "$$\n",
    "f(x_0+h) = f(x_0)+f^{'}(x_0)h + f^{''}(x_0)\\frac{h^2}{2}\n",
    "$$\n",
    "\n",
    "Qual o valor da aproximação no ponto $x = 0.5$ (considere três casas decimais)?\n",
    "\n",
    "Imprima, em um só quadro, o gráfico da função $f(x) = tan(x)$ e do polinômio de Taylor obtido. Além disso, mostre graficamente o ponto $x = 0.5$ avaliado no polinômio de Taylor.\n",
    "\n",
    "\n",
    "a) 0.437<br>\n",
    "b) 0.643<br>\n",
    "c) 0.545 (X)<br>\n",
    "d) 0.449<br>"
   ]
  },
  {
   "cell_type": "code",
   "execution_count": 41,
   "metadata": {
    "id": "41uA57XUTgME"
   },
   "outputs": [
    {
     "name": "stdout",
     "output_type": "stream",
     "text": [
      "0.5456523217442257\n"
     ]
    },
    {
     "data": {
      "image/png": "[encoded data removed]",
      "text/plain": [
       "<Figure size 432x288 with 1 Axes>"
      ]
     },
     "metadata": {
      "needs_background": "light"
     },
     "output_type": "display_data"
    }
   ],
   "source": [
    "#Solucao\n",
    "import numpy as np\n",
    "import matplotlib.pyplot as plt\n",
    "\n",
    "x_0 = 0.4\n",
    "fx_0 = np.tan(x_0)\n",
    "flx_0 = 1/np.cos(x_0)**2\n",
    "fllx_0 = (2*np.sin(x_0))/(np.cos(x_0)**3)\n",
    "\n",
    "t = np.linspace(0.2,0.6)\n",
    "h = np.linspace(-0.5,0.5,30)\n",
    "p = (fx_0 + flx_0*h) + (fllx_0*h**2)/2.0\n",
    "plt.plot(t,np.tan(t), c='green')\n",
    "plt.plot(0.4 + h,p)\n",
    "\n",
    "x = 0.1\n",
    "px = fx_0 + flx_0*x + fllx_0*x**2/2.0\n",
    "plt.scatter(0.5,px,c='g')\n",
    "print(px)"
   ]
  },
  {
   "cell_type": "markdown",
   "metadata": {
    "id": "IWOhJbIFffB4"
   },
   "source": [
    "#### Questão 3:  (2,5 pontos)\n",
    "Considere a equação do calor como descrita abaixo:\n",
    "\n",
    "$$\n",
    "u_t(x,t)=\\kappa u_{xx}(x,t)\n",
    "$$\n",
    "\n",
    "Supondo $x\\in[0,2\\pi]$, $t\\in[0,3]$, $\\kappa=3$, $\\Delta x = 0.7$ e as condições de contorno $u(0,t)=t^3$ e $u(2\\pi,t)=sen(t)$ encontre uma aproximação do valor da solução em $u(2,3)$. O valor aproximado é:\n",
    "\n",
    "a) 6.984<br>\n",
    "b) 6.975<br>\n",
    "c) 6.447<br>\n",
    "d) 6.450<br>\n",
    "\n",
    "Faça um gráfico da solução aproximada em $u(x,3)$ e o ponto $u(2,3)$ apontado na solução.\n",
    "\n",
    "Dica: calcule a solução aproximada em $u(x,3)$ por interplação linear"
   ]
  },
  {
   "cell_type": "code",
   "execution_count": 2,
   "metadata": {
    "id": "pDBVd4eBi6q5"
   },
   "outputs": [
    {
     "name": "stdout",
     "output_type": "stream",
     "text": [
      "\n"
     ]
    }
   ],
   "source": [
    "#Solucao\n",
    "k = 3\n",
    "dx = 0.7\n",
    "dt = (dx**2)/(2.0*k)\n",
    "nx = int(np.ceil(2*np.pi/dx))\n",
    "nt = int(np.ceil(3/dt))\n",
    "\n",
    "print()"
   ]
  },
  {
   "cell_type": "markdown",
   "metadata": {
    "id": "rQqC38Xw7HPa"
   },
   "source": [
    "#### Questão 4:  (2,5 pontos)\n",
    "Considere a função $f(x)=xe^x$.\n",
    "Faça o gráfico da função $f^{\\prime}(x)$ (primeira derivada) e da aproximação de $\\hat{f}^{\\prime}(x)$ utilizando diferenças finitas centradas no intervalo $[-3,3]$ com $\\Delta x=0.1$. Repita o processo para $f^{\\prime\\prime}(x)$ e $\\hat{f}^{\\prime\\prime}(x)$. O valor dos erros de aproximação (com três casas decimais) $|f^{\\prime}(x)-\\hat{f}^{\\prime}(x)|$ e $|f^{\\prime\\prime}(x)-\\hat{f}^{\\prime\\prime}(x)|$ no ponto $x=1.5$ são, respectivamente:\n",
    "\n",
    "a) 0.723 e 0.023<br>\n",
    "b) 0.756 e 0.022<br>\n",
    "c) 0.818 e 0.020 (X)<br>\n",
    "d) 0.812 e 0.023"
   ]
  },
  {
   "cell_type": "code",
   "execution_count": 36,
   "metadata": {
    "id": "Y-2i0YCoGKjK"
   },
   "outputs": [
    {
     "name": "stdout",
     "output_type": "stream",
     "text": [
      "0.8189600594057094\n",
      "0.020550413870150663\n"
     ]
    },
    {
     "data": {
      "image/png": "[encoded data removed]",
      "text/plain": [
       "<Figure size 432x216 with 2 Axes>"
      ]
     },
     "metadata": {
      "needs_background": "light"
     },
     "output_type": "display_data"
    }
   ],
   "source": [
    "# Solucao\n",
    "import matplotlib.pyplot as plt\n",
    "x = np.linspace(-3,3,60)\n",
    "dx = 0.1\n",
    "\n",
    "fl_x = (x+1)*np.exp(x)\n",
    "fll_x = (x+2)*np.exp(x)\n",
    "fb1 = ((x+dx)*np.exp(x+dx) - x*np.exp(x))/dx\n",
    "fb2 = ((x+dx)*np.exp(x+dx) - 2*x*np.exp(x) + (x-dx)*np.exp(x-dx))/dx**2\n",
    "\n",
    "fig, (axis1, axis2) = plt.subplots(1,2,figsize=(6,3))\n",
    "axis1.plot(x,fl_x,color='b') \n",
    "axis1.plot(x,fb1,color='r') \n",
    "axis2.plot(x,fll_x,color='b') \n",
    "axis2.plot(x,fb2,color='r')\n",
    "\n",
    "x = 1.5\n",
    "fb1d = (x+1)*np.exp(x)\n",
    "fb2d = (x+2)*np.exp(x)\n",
    "diff = ((x+dx)*np.exp(x+dx) - x*np.exp(x))/dx\n",
    "diff2 = ((x+dx)*np.exp(x+dx) - 2*x*np.exp(x) + (x-dx)*np.exp(x-dx))/dx**2\n",
    "\n",
    "print(((fb1d-diff)**2)**(1/2))\n",
    "print(((fb2d-diff2)**2)**(1/2))"
   ]
  }
 ],
 "metadata": {
  "colab": {
   "collapsed_sections": [],
   "provenance": []
  },
  "kernelspec": {
   "display_name": "Python 3",
   "language": "python",
   "name": "python3"
  },
  "language_info": {
   "codemirror_mode": {
    "name": "ipython",
    "version": 3
   },
   "file_extension": ".py",
   "mimetype": "text/x-python",
   "name": "python",
   "nbconvert_exporter": "python",
   "pygments_lexer": "ipython3",
   "version": "3.8.3"
  }
 },
 "nbformat": 4,
 "nbformat_minor": 1
}
