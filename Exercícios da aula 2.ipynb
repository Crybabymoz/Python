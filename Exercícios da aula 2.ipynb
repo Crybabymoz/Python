{
 "cells": [
  {
   "cell_type": "markdown",
   "metadata": {},
   "source": [
    "### Programas Sequenciais e Lineares"
   ]
  },
  {
   "cell_type": "markdown",
   "metadata": {},
   "source": [
    "#### 1."
   ]
  },
  {
   "cell_type": "code",
   "execution_count": 16,
   "metadata": {},
   "outputs": [
    {
     "name": "stdout",
     "output_type": "stream",
     "text": [
      "Primeira nota: 8\n",
      "Segunda nota: 7\n",
      "8.0\n"
     ]
    }
   ],
   "source": [
    "#leia duas notas de um aluno e calcule a media\n",
    "nota1 = float(input(\"Primeira nota: \")) #digitar os dados que quer calcular\n",
    "nota2 = float(input(\"Segunda nota: \"))\n",
    "media = (nota1 + nota1) / 2.0 #calculo da media (pega os dois valores e divie pela qntd de valores)\n",
    "print(media) #printa"
   ]
  },
  {
   "cell_type": "markdown",
   "metadata": {},
   "source": [
    "#### 2."
   ]
  },
  {
   "cell_type": "code",
   "execution_count": 9,
   "metadata": {},
   "outputs": [
    {
     "name": "stdout",
     "output_type": "stream",
     "text": [
      "Digite seu nome: Leila\n",
      "Primeira nota: 6\n",
      "Segunda nota: 8\n",
      "A media das notas de Leila\n",
      "eh 6.0\n"
     ]
    }
   ],
   "source": [
    "#peça o nome e duas notas de um aluno e calcule a media\n",
    "nome = str(input(\"Digite seu nome: \")) #digite seu nome (caractere 'str')\n",
    "nota1 = float(input(\"Primeira nota: \")) #digite as notas\n",
    "nota2 = float(input(\"Segunda nota: \"))\n",
    "media = (nota1 + nota1) / 2 #calculo da media \n",
    "print(\"A media das notas de\", (nome)) #printa\n",
    "print(\"eh\", media)"
   ]
  },
  {
   "cell_type": "markdown",
   "metadata": {},
   "source": [
    "#### 3."
   ]
  },
  {
   "cell_type": "code",
   "execution_count": 5,
   "metadata": {},
   "outputs": [
    {
     "name": "stdout",
     "output_type": "stream",
     "text": [
      "Primeira nota: 10.0\n",
      "Segunda nota: 10.0\n",
      "Segunda nota: 4.0\n",
      "A media das notas do aluno é 7.0\n"
     ]
    }
   ],
   "source": [
    "#dado as 3 notas de um aluno, sendo a 1° e 2° com peso 1, e 3° tendo peso 2, calcule a media\n",
    "nota1 = float(input(\"Primeira nota: \")) #pedimos as notas do aluno ao usuario \n",
    "nota2 = float(input(\"Segunda nota: \"))\n",
    "nota3 = float(input(\"Segunda nota: \"))\n",
    "\n",
    "media = (nota1+nota2+(nota3*2))/4 #media das notas eh a soma das notas com o peso\n",
    "\n",
    "print(\"A media das notas do aluno é\", media) #printa"
   ]
  },
  {
   "cell_type": "markdown",
   "metadata": {},
   "source": [
    "#### 4."
   ]
  },
  {
   "cell_type": "code",
   "execution_count": 13,
   "metadata": {},
   "outputs": [
    {
     "name": "stdout",
     "output_type": "stream",
     "text": [
      "Entre com a nota 1: 10.0\n",
      "Entre com a nota 2: 10.0\n",
      "Entre com a nota 3: 4.0\n",
      "Entre com o peso da nota 1: 1\n",
      "Entre com o peso da nota 2: 2\n",
      "Entre com o peso da nota 3: 3\n",
      "A media ponderada das notas do aluno é 8.4\n"
     ]
    }
   ],
   "source": [
    "#ler as 3 notas de um aluno e os 3 pesos\n",
    "nota1 = float(input(\"Entre com a nota 1: \")) #digite as 3 notas\n",
    "nota2 = float(input(\"Entre com a nota 2: \"))\n",
    "nota3 = float(input(\"Entre com a nota 3: \"))\n",
    "peso1 = float(input(\"Entre com o peso da nota 1: \")) #e os 3 pesos das notas\n",
    "peso2 = float(input(\"Entre com o peso da nota 2: \"))\n",
    "peso3 = float(input(\"Entre com o peso da nota 3: \"))\n",
    "#a media ponderada eh a media de cada nota vezes o seu peso\n",
    "media1 = nota1*peso1\n",
    "media2 = nota2*peso2\n",
    "media3 = nota3*peso3\n",
    "\n",
    "media_pond = (media1+media2+media3)/5 #media ponderada é a soma das notas com seus respectivos pesos\n",
    "\n",
    "print(\"A media ponderada das notas do aluno é\", media_pond) #printa"
   ]
  },
  {
   "cell_type": "markdown",
   "metadata": {},
   "source": [
    "#### 5."
   ]
  },
  {
   "cell_type": "code",
   "execution_count": 19,
   "metadata": {},
   "outputs": [
    {
     "name": "stdout",
     "output_type": "stream",
     "text": [
      "Entre com a temperatura em graus celsius: 20\n",
      "Temperatura em graus Fahrenheit: 68.0\n"
     ]
    }
   ],
   "source": [
    "#converter a temperatura de celsius para fahrenheit\n",
    "celsius = float(input(\"Entre com a temperatura em graus celsius: \")) \n",
    "Fahrenheit = (celsius*9)/5+32 #calculo da temperatura\n",
    "\n",
    "print(\"Temperatura em graus Fahrenheit:\", Fahrenheit)"
   ]
  },
  {
   "cell_type": "markdown",
   "metadata": {},
   "source": [
    "#### 6."
   ]
  },
  {
   "cell_type": "code",
   "execution_count": 30,
   "metadata": {},
   "outputs": [
    {
     "name": "stdout",
     "output_type": "stream",
     "text": [
      "Entre com a temperatura em graus Fahrenheit: 100\n",
      "Temperatura em graus Celsius: 37.77777777777778\n"
     ]
    }
   ],
   "source": [
    "#converter a temperatura de Fahrenheit para celsius\n",
    "Fahrenheit = float(input(\"Entre com a temperatura em graus Fahrenheit: \"))\n",
    "Celsius = (Fahrenheit-32)/1.8\n",
    "\n",
    "print(\"Temperatura em graus Celsius:\", Celsius)"
   ]
  },
  {
   "cell_type": "markdown",
   "metadata": {},
   "source": [
    "#### 7."
   ]
  },
  {
   "cell_type": "code",
   "execution_count": 1,
   "metadata": {},
   "outputs": [
    {
     "name": "stdout",
     "output_type": "stream",
     "text": [
      "Entre com o valor da hora de trabalho: 7\n",
      "Entre com o n° de horas trabalhadas: 40\n",
      "Percentual adicional (10%): 5\n",
      "Total a ser pago R$  285.0\n"
     ]
    }
   ],
   "source": [
    "#dado a quantidade de horas trabalhadas (e seu valor) no mês, calcule o valor a ser pago acrescentado de 10%\n",
    "valor_hora = float(input(\"Entre com o valor da hora de trabalho: \"))\n",
    "qntd_hora = float(input(\"Entre com o n° de horas trabalhadas: \"))\n",
    "adicional = float(input(\"Percentual adicional (10%): \"))\n",
    "\n",
    "total = (valor_hora*qntd_hora)+adicional\n",
    "\n",
    "print(\"Total a ser pago R$ \", total)"
   ]
  },
  {
   "cell_type": "markdown",
   "metadata": {},
   "source": [
    "#### 8."
   ]
  },
  {
   "cell_type": "code",
   "execution_count": 36,
   "metadata": {},
   "outputs": [
    {
     "name": "stdout",
     "output_type": "stream",
     "text": [
      "Entre com um numero: 64\n",
      "A raiz quadrada é:  8.0\n"
     ]
    }
   ],
   "source": [
    "#calcular a raiz quadrada de um numero dado\n",
    "import math #importando a biblioteca de calculos avançados para calcular a raiz\n",
    "numero = float(input(\"Entre com um numero: \"))\n",
    "raiz = math.sqrt(numero)\n",
    "\n",
    "print(\"A raiz quadrada é: \", raiz)"
   ]
  },
  {
   "cell_type": "markdown",
   "metadata": {},
   "source": [
    "#### 9."
   ]
  },
  {
   "cell_type": "code",
   "execution_count": 16,
   "metadata": {},
   "outputs": [
    {
     "name": "stdout",
     "output_type": "stream",
     "text": [
      "Entre com o coeficiente A: 4\n",
      "Entre com o coeficiente B: 7\n",
      "Entre com o coeficiente C: 1\n",
      "As raizes da equação podem ser -1.59 \n",
      "Ou -0.16\n"
     ]
    }
   ],
   "source": [
    "#ler A,B,C e calcular as raizes de 2° grau\n",
    "import math\n",
    "a = float(input(\"Entre com o coeficiente A: \"))\n",
    "b = float(input(\"Entre com o coeficiente B: \"))\n",
    "c = float(input(\"Entre com o coeficiente C: \"))\n",
    "#ax^2+bx+c=0 (bhaskara)\n",
    "delta = (b*b)-4 *(a*c)\n",
    "x1= (-b + delta**(1/2))/(2*a)\n",
    "x2= (-b - delta**(1/2))/(2*a)\n",
    "print(\"As raizes da equação podem ser {:.2f} \".format(x2))\n",
    "print(\"Ou {:.2f}\".format(x1))"
   ]
  },
  {
   "cell_type": "markdown",
   "metadata": {},
   "source": [
    "#### 10."
   ]
  },
  {
   "cell_type": "code",
   "execution_count": 44,
   "metadata": {},
   "outputs": [
    {
     "name": "stdout",
     "output_type": "stream",
     "text": [
      "Entre com o Valor de A: 53\n",
      "Entre com o Valor de B: 34\n",
      "Antes da troca os valores de A e de B são respectivamente: 53.0 34.0\n",
      "Após a troca o valor de A é igual a: 34.0\n",
      "Após a troca o valor de B é igual a: 53.0\n"
     ]
    }
   ],
   "source": [
    "#ler A e B com seus respectivos valores e trocar os valores das variaveis\n",
    "A = float(input(\"Entre com o Valor de A: \"))\n",
    "B = float(input(\"Entre com o Valor de B: \"))\n",
    "\n",
    "print(\"Antes da troca os valores de A e de B são respectivamente:\", A, B)\n",
    "\n",
    "a = B\n",
    "b = A\n",
    "\n",
    "print(\"Após a troca o valor de A é igual a:\", a)\n",
    "print(\"Após a troca o valor de B é igual a:\", b)"
   ]
  },
  {
   "cell_type": "markdown",
   "metadata": {},
   "source": [
    "#### 11."
   ]
  },
  {
   "cell_type": "code",
   "execution_count": 20,
   "metadata": {},
   "outputs": [
    {
     "name": "stdout",
     "output_type": "stream",
     "text": [
      "Digite o angulo: 32\n",
      "Seno: 0.53\n",
      "Cosseno: 0.85\n"
     ]
    }
   ],
   "source": [
    "#ler um angulo em graus e calcule o seno e cosseno\n",
    "import math\n",
    "angulo = float(input(\"Digite o angulo: \"))\n",
    "\n",
    "seno = math.sin(math.radians(angulo))\n",
    "print(\"Seno: {:.2f}\".format(seno))\n",
    "cosseno = math.cos(math.radians(angulo))\n",
    "print(\"Cosseno: {:.2f}\".format(cosseno))"
   ]
  },
  {
   "cell_type": "markdown",
   "metadata": {},
   "source": [
    "#### 12."
   ]
  },
  {
   "cell_type": "code",
   "execution_count": 46,
   "metadata": {},
   "outputs": [
    {
     "name": "stdout",
     "output_type": "stream",
     "text": [
      "entre com o 1° numero: 6\n",
      "entre com o 2° numero: 5\n",
      "entre com o 3° numero: 8\n",
      "entre com o 4° numero: 9\n",
      "entre com o 5° numero: 7\n",
      "A media dos numeros é: 7.0\n",
      "O desvio padrão é: 35.0\n"
     ]
    }
   ],
   "source": [
    "#ler 5 numeros e calcular a media e o desvio padrão\n",
    "n1 = float(input(\"entre com o 1° numero: \"))\n",
    "n2 = float(input(\"entre com o 2° numero: \"))\n",
    "n3 = float(input(\"entre com o 3° numero: \"))\n",
    "n4 = float(input(\"entre com o 4° numero: \"))\n",
    "n5 = float(input(\"entre com o 5° numero: \"))\n",
    "\n",
    "media = (n1+n2+n3+n4+n5)/5\n",
    "desvio_padrao = n1+n2+n3+n4+n5\n",
    "\n",
    "print(\"A media dos numeros é:\", media)\n",
    "print(\"O desvio padrão é:\", desvio_padrao)"
   ]
  }
 ],
 "metadata": {
  "kernelspec": {
   "display_name": "Python 3",
   "language": "python",
   "name": "python3"
  },
  "language_info": {
   "codemirror_mode": {
    "name": "ipython",
    "version": 3
   },
   "file_extension": ".py",
   "mimetype": "text/x-python",
   "name": "python",
   "nbconvert_exporter": "python",
   "pygments_lexer": "ipython3",
   "version": "3.8.3"
  }
 },
 "nbformat": 4,
 "nbformat_minor": 4
}
